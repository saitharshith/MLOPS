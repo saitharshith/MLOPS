{
 "cells": [
  {
   "cell_type": "code",
   "execution_count": 47,
   "metadata": {},
   "outputs": [
    {
     "name": "stdout",
     "output_type": "stream",
     "text": [
      "   id  carat        cut color clarity  depth  table     x     y     z  price\n",
      "0   0   1.52    Premium     F     VS2   62.2   58.0  7.27  7.33  4.55  13619\n",
      "1   1   2.03  Very Good     J     SI2   62.0   58.0  8.06  8.12  5.05  13387\n",
      "2   2   0.70      Ideal     G     VS1   61.2   57.0  5.69  5.73  3.50   2772\n",
      "3   3   0.32      Ideal     G     VS1   61.6   56.0  4.38  4.41  2.71    666\n",
      "4   4   1.70    Premium     G     VS2   62.6   59.0  7.65  7.61  4.77  14453\n"
     ]
    }
   ],
   "source": [
    "import pandas as pd\n",
    "price_df=pd.read_csv(r\"C:\\Users\\Dell\\Downloads\\mlops\\MLOPS\\gemstone dataset\\train_data.csv\\train_data.csv\")\n",
    "print(price_df.head())"
   ]
  },
  {
   "cell_type": "markdown",
   "metadata": {},
   "source": [
    "Introduction About the Data : The dataset The goal is to predict price of given diamond (Regression Analysis).\n",
    "\n",
    "There are 10 independent variables (including id):\n",
    "\n",
    "id : unique identifier of each diamond\n",
    "\n",
    "carat : Carat (ct.) refers to the unique unit of weight measurement used exclusively to weigh gemstones and diamonds.\n",
    "\n",
    "cut : Quality of Diamond Cut\n",
    "\n",
    "color : Color of Diamond\n",
    "\n",
    "clarity : Diamond clarity is a measure of the purity and rarity of the stone, graded by the visibility of these characteristics under 10-power magnification.\n",
    "\n",
    "depth : The depth of diamond is its height (in millimeters) measured from the culet (bottom tip) to the table (flat, top surface)\n",
    "\n",
    "table : A diamond's table is the facet which can be seen when the stone is viewed face up.\n",
    "\n",
    "x : Diamond X dimension\n",
    "\n",
    "y : Diamond Y dimension\n",
    "\n",
    "x : Diamond Z dimension\n",
    "\n",
    "Target variable:\n",
    "\n",
    "price: Price of the given Diamond."
   ]
  },
  {
   "cell_type": "markdown",
   "metadata": {},
   "source": [
    "EDA\n"
   ]
  },
  {
   "cell_type": "code",
   "execution_count": 17,
   "metadata": {},
   "outputs": [
    {
     "data": {
      "text/plain": [
       "cut\n",
       "Ideal        92454\n",
       "Premium      49910\n",
       "Very Good    37566\n",
       "Good         11622\n",
       "Fair          2021\n",
       "Name: count, dtype: int64"
      ]
     },
     "execution_count": 17,
     "metadata": {},
     "output_type": "execute_result"
    }
   ],
   "source": [
    "price_df['cut'].value_counts()"
   ]
  },
  {
   "cell_type": "code",
   "execution_count": 18,
   "metadata": {},
   "outputs": [
    {
     "data": {
      "text/plain": [
       "clarity\n",
       "SI1     53272\n",
       "VS2     48027\n",
       "VS1     30669\n",
       "SI2     30484\n",
       "VVS2    15762\n",
       "VVS1    10628\n",
       "IF       4219\n",
       "I1        512\n",
       "Name: count, dtype: int64"
      ]
     },
     "execution_count": 18,
     "metadata": {},
     "output_type": "execute_result"
    }
   ],
   "source": [
    "price_df['clarity'].value_counts()"
   ]
  },
  {
   "cell_type": "code",
   "execution_count": 19,
   "metadata": {},
   "outputs": [
    {
     "data": {
      "text/plain": [
       "id         0\n",
       "carat      0\n",
       "cut        0\n",
       "color      0\n",
       "clarity    0\n",
       "depth      0\n",
       "table      0\n",
       "x          0\n",
       "y          0\n",
       "z          0\n",
       "price      0\n",
       "dtype: int64"
      ]
     },
     "execution_count": 19,
     "metadata": {},
     "output_type": "execute_result"
    }
   ],
   "source": [
    "price_df.isnull().sum()"
   ]
  },
  {
   "cell_type": "code",
   "execution_count": 20,
   "metadata": {},
   "outputs": [
    {
     "name": "stdout",
     "output_type": "stream",
     "text": [
      "<class 'pandas.core.frame.DataFrame'>\n",
      "RangeIndex: 193573 entries, 0 to 193572\n",
      "Data columns (total 11 columns):\n",
      " #   Column   Non-Null Count   Dtype  \n",
      "---  ------   --------------   -----  \n",
      " 0   id       193573 non-null  int64  \n",
      " 1   carat    193573 non-null  float64\n",
      " 2   cut      193573 non-null  object \n",
      " 3   color    193573 non-null  object \n",
      " 4   clarity  193573 non-null  object \n",
      " 5   depth    193573 non-null  float64\n",
      " 6   table    193573 non-null  float64\n",
      " 7   x        193573 non-null  float64\n",
      " 8   y        193573 non-null  float64\n",
      " 9   z        193573 non-null  float64\n",
      " 10  price    193573 non-null  int64  \n",
      "dtypes: float64(6), int64(2), object(3)\n",
      "memory usage: 16.2+ MB\n"
     ]
    }
   ],
   "source": [
    "price_df.info()"
   ]
  },
  {
   "cell_type": "code",
   "execution_count": 21,
   "metadata": {},
   "outputs": [
    {
     "data": {
      "text/html": [
       "<div>\n",
       "<style scoped>\n",
       "    .dataframe tbody tr th:only-of-type {\n",
       "        vertical-align: middle;\n",
       "    }\n",
       "\n",
       "    .dataframe tbody tr th {\n",
       "        vertical-align: top;\n",
       "    }\n",
       "\n",
       "    .dataframe thead th {\n",
       "        text-align: right;\n",
       "    }\n",
       "</style>\n",
       "<table border=\"1\" class=\"dataframe\">\n",
       "  <thead>\n",
       "    <tr style=\"text-align: right;\">\n",
       "      <th></th>\n",
       "      <th>id</th>\n",
       "      <th>carat</th>\n",
       "      <th>depth</th>\n",
       "      <th>table</th>\n",
       "      <th>x</th>\n",
       "      <th>y</th>\n",
       "      <th>z</th>\n",
       "      <th>price</th>\n",
       "    </tr>\n",
       "  </thead>\n",
       "  <tbody>\n",
       "    <tr>\n",
       "      <th>count</th>\n",
       "      <td>193573.000000</td>\n",
       "      <td>193573.000000</td>\n",
       "      <td>193573.000000</td>\n",
       "      <td>193573.000000</td>\n",
       "      <td>193573.000000</td>\n",
       "      <td>193573.000000</td>\n",
       "      <td>193573.000000</td>\n",
       "      <td>193573.000000</td>\n",
       "    </tr>\n",
       "    <tr>\n",
       "      <th>mean</th>\n",
       "      <td>96786.000000</td>\n",
       "      <td>0.790688</td>\n",
       "      <td>61.820574</td>\n",
       "      <td>57.227675</td>\n",
       "      <td>5.715312</td>\n",
       "      <td>5.720094</td>\n",
       "      <td>3.534246</td>\n",
       "      <td>3969.155414</td>\n",
       "    </tr>\n",
       "    <tr>\n",
       "      <th>std</th>\n",
       "      <td>55879.856166</td>\n",
       "      <td>0.462688</td>\n",
       "      <td>1.081704</td>\n",
       "      <td>1.918844</td>\n",
       "      <td>1.109422</td>\n",
       "      <td>1.102333</td>\n",
       "      <td>0.688922</td>\n",
       "      <td>4034.374138</td>\n",
       "    </tr>\n",
       "    <tr>\n",
       "      <th>min</th>\n",
       "      <td>0.000000</td>\n",
       "      <td>0.200000</td>\n",
       "      <td>52.100000</td>\n",
       "      <td>49.000000</td>\n",
       "      <td>0.000000</td>\n",
       "      <td>0.000000</td>\n",
       "      <td>0.000000</td>\n",
       "      <td>326.000000</td>\n",
       "    </tr>\n",
       "    <tr>\n",
       "      <th>25%</th>\n",
       "      <td>48393.000000</td>\n",
       "      <td>0.400000</td>\n",
       "      <td>61.300000</td>\n",
       "      <td>56.000000</td>\n",
       "      <td>4.700000</td>\n",
       "      <td>4.710000</td>\n",
       "      <td>2.900000</td>\n",
       "      <td>951.000000</td>\n",
       "    </tr>\n",
       "    <tr>\n",
       "      <th>50%</th>\n",
       "      <td>96786.000000</td>\n",
       "      <td>0.700000</td>\n",
       "      <td>61.900000</td>\n",
       "      <td>57.000000</td>\n",
       "      <td>5.700000</td>\n",
       "      <td>5.720000</td>\n",
       "      <td>3.530000</td>\n",
       "      <td>2401.000000</td>\n",
       "    </tr>\n",
       "    <tr>\n",
       "      <th>75%</th>\n",
       "      <td>145179.000000</td>\n",
       "      <td>1.030000</td>\n",
       "      <td>62.400000</td>\n",
       "      <td>58.000000</td>\n",
       "      <td>6.510000</td>\n",
       "      <td>6.510000</td>\n",
       "      <td>4.030000</td>\n",
       "      <td>5408.000000</td>\n",
       "    </tr>\n",
       "    <tr>\n",
       "      <th>max</th>\n",
       "      <td>193572.000000</td>\n",
       "      <td>3.500000</td>\n",
       "      <td>71.600000</td>\n",
       "      <td>79.000000</td>\n",
       "      <td>9.650000</td>\n",
       "      <td>10.010000</td>\n",
       "      <td>31.300000</td>\n",
       "      <td>18818.000000</td>\n",
       "    </tr>\n",
       "  </tbody>\n",
       "</table>\n",
       "</div>"
      ],
      "text/plain": [
       "                  id          carat          depth          table  \\\n",
       "count  193573.000000  193573.000000  193573.000000  193573.000000   \n",
       "mean    96786.000000       0.790688      61.820574      57.227675   \n",
       "std     55879.856166       0.462688       1.081704       1.918844   \n",
       "min         0.000000       0.200000      52.100000      49.000000   \n",
       "25%     48393.000000       0.400000      61.300000      56.000000   \n",
       "50%     96786.000000       0.700000      61.900000      57.000000   \n",
       "75%    145179.000000       1.030000      62.400000      58.000000   \n",
       "max    193572.000000       3.500000      71.600000      79.000000   \n",
       "\n",
       "                   x              y              z          price  \n",
       "count  193573.000000  193573.000000  193573.000000  193573.000000  \n",
       "mean        5.715312       5.720094       3.534246    3969.155414  \n",
       "std         1.109422       1.102333       0.688922    4034.374138  \n",
       "min         0.000000       0.000000       0.000000     326.000000  \n",
       "25%         4.700000       4.710000       2.900000     951.000000  \n",
       "50%         5.700000       5.720000       3.530000    2401.000000  \n",
       "75%         6.510000       6.510000       4.030000    5408.000000  \n",
       "max         9.650000      10.010000      31.300000   18818.000000  "
      ]
     },
     "execution_count": 21,
     "metadata": {},
     "output_type": "execute_result"
    }
   ],
   "source": [
    "price_df.describe()"
   ]
  },
  {
   "cell_type": "code",
   "execution_count": 48,
   "metadata": {},
   "outputs": [
    {
     "data": {
      "text/plain": [
       "np.int64(0)"
      ]
     },
     "execution_count": 48,
     "metadata": {},
     "output_type": "execute_result"
    }
   ],
   "source": [
    "price_df.drop(['id'],inplace=True,axis=1)\n",
    "price_df.duplicated().sum()"
   ]
  },
  {
   "cell_type": "code",
   "execution_count": 32,
   "metadata": {},
   "outputs": [
    {
     "data": {
      "text/plain": [
       "Index(['cut', 'color', 'clarity'], dtype='object')"
      ]
     },
     "execution_count": 32,
     "metadata": {},
     "output_type": "execute_result"
    }
   ],
   "source": [
    "ca_col=price_df.columns[price_df.dtypes==\"object\"]\n",
    "num_cols=price_df.columns[price_df.dtypes==\"float64\"]\n",
    "ca_col"
   ]
  },
  {
   "cell_type": "code",
   "execution_count": 31,
   "metadata": {},
   "outputs": [
    {
     "name": "stdout",
     "output_type": "stream",
     "text": [
      "cut\n",
      "Ideal        92454\n",
      "Premium      49910\n",
      "Very Good    37566\n",
      "Good         11622\n",
      "Fair          2021\n",
      "Name: count, dtype: int64\n",
      "-----------------------------------\n",
      "color\n",
      "G    44391\n",
      "E    35869\n",
      "F    34258\n",
      "H    30799\n",
      "D    24286\n",
      "I    17514\n",
      "J     6456\n",
      "Name: count, dtype: int64\n",
      "-----------------------------------\n",
      "clarity\n",
      "SI1     53272\n",
      "VS2     48027\n",
      "VS1     30669\n",
      "SI2     30484\n",
      "VVS2    15762\n",
      "VVS1    10628\n",
      "IF       4219\n",
      "I1        512\n",
      "Name: count, dtype: int64\n",
      "-----------------------------------\n"
     ]
    }
   ],
   "source": [
    "for ca in ca_col:\n",
    "    print(price_df[ca].value_counts())\n",
    "    print(\"-----------------------------------\")"
   ]
  },
  {
   "cell_type": "code",
   "execution_count": 33,
   "metadata": {},
   "outputs": [
    {
     "data": {
      "text/plain": [
       "<Figure size 1000x1000 with 0 Axes>"
      ]
     },
     "metadata": {},
     "output_type": "display_data"
    },
    {
     "data": {
      "image/png": "[encoded data removed]",
      "text/plain": [
       "<Figure size 500x500 with 1 Axes>"
      ]
     },
     "metadata": {},
     "output_type": "display_data"
    },
    {
     "data": {
      "image/png": "[encoded data removed]",
      "text/plain": [
       "<Figure size 500x500 with 1 Axes>"
      ]
     },
     "metadata": {},
     "output_type": "display_data"
    },
    {
     "data": {
      "image/png": "[encoded data removed]",
      "text/plain": [
       "<Figure size 500x500 with 1 Axes>"
      ]
     },
     "metadata": {},
     "output_type": "display_data"
    },
    {
     "data": {
      "image/png": "[encoded data removed]",
      "text/plain": [
       "<Figure size 500x500 with 1 Axes>"
      ]
     },
     "metadata": {},
     "output_type": "display_data"
    },
    {
     "data": {
      "image/png": "[encoded data removed]",
      "text/plain": [
       "<Figure size 500x500 with 1 Axes>"
      ]
     },
     "metadata": {},
     "output_type": "display_data"
    },
    {
     "data": {
      "image/png": "[encoded data removed]",
      "text/plain": [
       "<Figure size 500x500 with 1 Axes>"
      ]
     },
     "metadata": {},
     "output_type": "display_data"
    }
   ],
   "source": [
    "import matplotlib.pyplot as plt\n",
    "import seaborn as sns\n",
    "plt.figure(figsize=(10,10))\n",
    "\n",
    "for l in num_cols:\n",
    "    sns.displot(x=l, data=price_df,kde=True)\n",
    "    plt.show()\n"
   ]
  },
  {
   "cell_type": "code",
   "execution_count": 34,
   "metadata": {},
   "outputs": [
    {
     "data": {
      "text/plain": [
       "<Axes: >"
      ]
     },
     "execution_count": 34,
     "metadata": {},
     "output_type": "execute_result"
    },
    {
     "data": {
      "image/png": "[encoded data removed]",
      "text/plain": [
       "<Figure size 640x480 with 2 Axes>"
      ]
     },
     "metadata": {},
     "output_type": "display_data"
    }
   ],
   "source": [
    "sns.heatmap(price_df[num_cols].corr(),annot=True)"
   ]
  },
  {
   "cell_type": "code",
   "execution_count": 49,
   "metadata": {},
   "outputs": [
    {
     "name": "stdout",
     "output_type": "stream",
     "text": [
      "cut\n",
      "Ideal        92454\n",
      "Premium      49910\n",
      "Very Good    37566\n",
      "Good         11622\n",
      "Fair          2021\n",
      "Name: count, dtype: int64\n",
      "-----------------------------------\n",
      "color\n",
      "G    44391\n",
      "E    35869\n",
      "F    34258\n",
      "H    30799\n",
      "D    24286\n",
      "I    17514\n",
      "J     6456\n",
      "Name: count, dtype: int64\n",
      "-----------------------------------\n",
      "clarity\n",
      "SI1     53272\n",
      "VS2     48027\n",
      "VS1     30669\n",
      "SI2     30484\n",
      "VVS2    15762\n",
      "VVS1    10628\n",
      "IF       4219\n",
      "I1        512\n",
      "Name: count, dtype: int64\n",
      "-----------------------------------\n"
     ]
    }
   ],
   "source": [
    "for col in ca_col:\n",
    "    print(price_df[col].value_counts())\n",
    "    print(\"-----------------------------------\")"
   ]
  },
  {
   "cell_type": "code",
   "execution_count": 50,
   "metadata": {},
   "outputs": [],
   "source": [
    "from sklearn.impute import SimpleImputer ## HAndling Missing Values\n",
    "from sklearn.preprocessing import StandardScaler # HAndling Feature Scaling\n",
    "from sklearn.preprocessing import OrdinalEncoder # Ordinal Encoding\n",
    "## pipelines\n",
    "from sklearn.pipeline import Pipeline\n",
    "from sklearn.compose import ColumnTransformer"
   ]
  },
  {
   "cell_type": "code",
   "execution_count": 51,
   "metadata": {},
   "outputs": [],
   "source": [
    "X=price_df.drop(labels=[\"price\"],axis=1)\n",
    "y=price_df[\"price\"]"
   ]
  },
  {
   "cell_type": "code",
   "execution_count": 52,
   "metadata": {},
   "outputs": [],
   "source": [
    "cat_cols=X.select_dtypes(include=\"object\").columns\n",
    "num_cols=X.select_dtypes(exclude=\"object\").columns\n",
    "cut_categories = ['Fair', 'Good', 'Very Good','Premium','Ideal']\n",
    "color_categories = ['D', 'E', 'F', 'G', 'H', 'I', 'J']\n",
    "clarity_categories = ['I1','SI2','SI1','VS2','VS1','VVS2','VVS1','IF']"
   ]
  },
  {
   "cell_type": "code",
   "execution_count": 53,
   "metadata": {},
   "outputs": [],
   "source": [
    "num_pipeline=Pipeline(\n",
    "    steps=[\n",
    "        (\"imputer\",SimpleImputer()),\n",
    "        (\"scaler\",StandardScaler())\n",
    "    ]\n",
    ")"
   ]
  },
  {
   "cell_type": "code",
   "execution_count": 54,
   "metadata": {},
   "outputs": [],
   "source": [
    "cat_pipeline=Pipeline(\n",
    "\n",
    "    steps=[\n",
    "        (\"imputer\",SimpleImputer(strategy=\"most_frequent\")),\n",
    "        (\"ordinalencoder\",OrdinalEncoder(categories=[cut_categories,color_categories,clarity_categories]))\n",
    "\n",
    "    ]\n",
    ")"
   ]
  },
  {
   "cell_type": "code",
   "execution_count": 55,
   "metadata": {},
   "outputs": [],
   "source": [
    "preprocessor=ColumnTransformer(\n",
    "\n",
    "    [\n",
    "        (\"num_pipeline\",num_pipeline,num_cols),\n",
    "        (\"cat_pipeline\",cat_pipeline,cat_cols)\n",
    "    ]\n",
    ")"
   ]
  },
  {
   "cell_type": "code",
   "execution_count": 56,
   "metadata": {},
   "outputs": [],
   "source": [
    "from sklearn.model_selection import train_test_split\n",
    "X_train,X_test,y_train,y_test=train_test_split(X,y,test_size=0.30, random_state=42)"
   ]
  },
  {
   "cell_type": "code",
   "execution_count": 57,
   "metadata": {},
   "outputs": [
    {
     "data": {
      "text/plain": [
       "array([[-0.82314374, -1.12998781, -0.64189666, ...,  4.        ,\n",
       "         1.        ,  5.        ],\n",
       "       [ 0.94502267, -1.77782269,  0.92190185, ...,  2.        ,\n",
       "         4.        ,  4.        ],\n",
       "       [ 1.9584839 ,  0.16568195,  0.40063568, ...,  3.        ,\n",
       "         4.        ,  3.        ],\n",
       "       ...,\n",
       "       [ 0.92345966,  0.90606467,  0.40063568, ...,  3.        ,\n",
       "         3.        ,  3.        ],\n",
       "       [-1.03877378, -0.66724861, -0.64189666, ...,  2.        ,\n",
       "         3.        ,  6.        ],\n",
       "       [-1.03877378, -0.01941373,  0.92190185, ...,  2.        ,\n",
       "         3.        ,  1.        ]], shape=(135501, 9))"
      ]
     },
     "execution_count": 57,
     "metadata": {},
     "output_type": "execute_result"
    }
   ],
   "source": [
    "preprocessor.fit_transform(X_train)"
   ]
  },
  {
   "cell_type": "code",
   "execution_count": 58,
   "metadata": {},
   "outputs": [
    {
     "data": {
      "text/plain": [
       "array([[-0.62636845,  0.25853321, -0.11404195, ...,  4.        ,\n",
       "         0.        ,  2.        ],\n",
       "       [ 2.63330214, -2.13900051, -0.11404195, ...,  2.        ,\n",
       "         3.        ,  1.        ],\n",
       "       [-1.1261846 , -1.21687215,  0.92772113, ...,  3.        ,\n",
       "         1.        ,  6.        ],\n",
       "       ...,\n",
       "       [-0.82194868, -0.0181053 , -0.63492349, ...,  4.        ,\n",
       "         3.        ,  6.        ],\n",
       "       [ 0.9165423 , -0.66359514,  1.44860267, ...,  3.        ,\n",
       "         5.        ,  2.        ],\n",
       "       [ 0.48191955,  0.90402306, -0.63492349, ...,  2.        ,\n",
       "         1.        ,  3.        ]], shape=(58072, 9))"
      ]
     },
     "execution_count": 58,
     "metadata": {},
     "output_type": "execute_result"
    }
   ],
   "source": [
    "preprocessor.fit_transform(X_test)"
   ]
  },
  {
   "cell_type": "code",
   "execution_count": 59,
   "metadata": {},
   "outputs": [],
   "source": [
    "X_train=pd.DataFrame(preprocessor.fit_transform(X_train),columns=preprocessor.get_feature_names_out())\n",
    "X_test=pd.DataFrame(preprocessor.transform(X_test),columns=preprocessor.get_feature_names_out())"
   ]
  },
  {
   "cell_type": "code",
   "execution_count": 60,
   "metadata": {},
   "outputs": [
    {
     "data": {
      "text/html": [
       "<div>\n",
       "<style scoped>\n",
       "    .dataframe tbody tr th:only-of-type {\n",
       "        vertical-align: middle;\n",
       "    }\n",
       "\n",
       "    .dataframe tbody tr th {\n",
       "        vertical-align: top;\n",
       "    }\n",
       "\n",
       "    .dataframe thead th {\n",
       "        text-align: right;\n",
       "    }\n",
       "</style>\n",
       "<table border=\"1\" class=\"dataframe\">\n",
       "  <thead>\n",
       "    <tr style=\"text-align: right;\">\n",
       "      <th></th>\n",
       "      <th>num_pipeline__carat</th>\n",
       "      <th>num_pipeline__depth</th>\n",
       "      <th>num_pipeline__table</th>\n",
       "      <th>num_pipeline__x</th>\n",
       "      <th>num_pipeline__y</th>\n",
       "      <th>num_pipeline__z</th>\n",
       "      <th>cat_pipeline__cut</th>\n",
       "      <th>cat_pipeline__color</th>\n",
       "      <th>cat_pipeline__clarity</th>\n",
       "    </tr>\n",
       "  </thead>\n",
       "  <tbody>\n",
       "    <tr>\n",
       "      <th>0</th>\n",
       "      <td>-0.823144</td>\n",
       "      <td>-1.129988</td>\n",
       "      <td>-0.641897</td>\n",
       "      <td>-0.780451</td>\n",
       "      <td>-0.835103</td>\n",
       "      <td>-0.876024</td>\n",
       "      <td>4.0</td>\n",
       "      <td>1.0</td>\n",
       "      <td>5.0</td>\n",
       "    </tr>\n",
       "    <tr>\n",
       "      <th>1</th>\n",
       "      <td>0.945023</td>\n",
       "      <td>-1.777823</td>\n",
       "      <td>0.921902</td>\n",
       "      <td>1.073226</td>\n",
       "      <td>1.166389</td>\n",
       "      <td>0.946633</td>\n",
       "      <td>2.0</td>\n",
       "      <td>4.0</td>\n",
       "      <td>4.0</td>\n",
       "    </tr>\n",
       "    <tr>\n",
       "      <th>2</th>\n",
       "      <td>1.958484</td>\n",
       "      <td>0.165682</td>\n",
       "      <td>0.400636</td>\n",
       "      <td>1.703116</td>\n",
       "      <td>1.755063</td>\n",
       "      <td>1.742237</td>\n",
       "      <td>3.0</td>\n",
       "      <td>4.0</td>\n",
       "      <td>3.0</td>\n",
       "    </tr>\n",
       "    <tr>\n",
       "      <th>3</th>\n",
       "      <td>-0.995648</td>\n",
       "      <td>-0.574701</td>\n",
       "      <td>-0.641897</td>\n",
       "      <td>-1.122391</td>\n",
       "      <td>-1.161138</td>\n",
       "      <td>-1.165334</td>\n",
       "      <td>4.0</td>\n",
       "      <td>2.0</td>\n",
       "      <td>6.0</td>\n",
       "    </tr>\n",
       "    <tr>\n",
       "      <th>4</th>\n",
       "      <td>-0.995648</td>\n",
       "      <td>0.258230</td>\n",
       "      <td>0.400636</td>\n",
       "      <td>-1.176382</td>\n",
       "      <td>-1.152082</td>\n",
       "      <td>-1.136403</td>\n",
       "      <td>2.0</td>\n",
       "      <td>5.0</td>\n",
       "      <td>2.0</td>\n",
       "    </tr>\n",
       "  </tbody>\n",
       "</table>\n",
       "</div>"
      ],
      "text/plain": [
       "   num_pipeline__carat  num_pipeline__depth  num_pipeline__table  \\\n",
       "0            -0.823144            -1.129988            -0.641897   \n",
       "1             0.945023            -1.777823             0.921902   \n",
       "2             1.958484             0.165682             0.400636   \n",
       "3            -0.995648            -0.574701            -0.641897   \n",
       "4            -0.995648             0.258230             0.400636   \n",
       "\n",
       "   num_pipeline__x  num_pipeline__y  num_pipeline__z  cat_pipeline__cut  \\\n",
       "0        -0.780451        -0.835103        -0.876024                4.0   \n",
       "1         1.073226         1.166389         0.946633                2.0   \n",
       "2         1.703116         1.755063         1.742237                3.0   \n",
       "3        -1.122391        -1.161138        -1.165334                4.0   \n",
       "4        -1.176382        -1.152082        -1.136403                2.0   \n",
       "\n",
       "   cat_pipeline__color  cat_pipeline__clarity  \n",
       "0                  1.0                    5.0  \n",
       "1                  4.0                    4.0  \n",
       "2                  4.0                    3.0  \n",
       "3                  2.0                    6.0  \n",
       "4                  5.0                    2.0  "
      ]
     },
     "execution_count": 60,
     "metadata": {},
     "output_type": "execute_result"
    }
   ],
   "source": [
    "X_train.head()"
   ]
  },
  {
   "cell_type": "code",
   "execution_count": 61,
   "metadata": {},
   "outputs": [
    {
     "name": "stdout",
     "output_type": "stream",
     "text": [
      "Collecting xgboost\n",
      "  Downloading xgboost-2.1.3-py3-none-win_amd64.whl.metadata (2.1 kB)\n",
      "Requirement already satisfied: numpy in c:\\users\\dell\\downloads\\mlops\\mlops\\.venv\\lib\\site-packages (from xgboost) (2.2.0)\n",
      "Requirement already satisfied: scipy in c:\\users\\dell\\downloads\\mlops\\mlops\\.venv\\lib\\site-packages (from xgboost) (1.14.1)\n",
      "Downloading xgboost-2.1.3-py3-none-win_amd64.whl (124.9 MB)\n",
      "   ---------------------------------------- 0.0/124.9 MB ? eta -:--:--\n",
      "   ---------------------------------------- 0.0/124.9 MB ? eta -:--:--\n",
      "   ---------------------------------------- 0.3/124.9 MB ? eta -:--:--\n",
      "   ---------------------------------------- 0.5/124.9 MB 985.5 kB/s eta 0:02:07\n",
      "   ---------------------------------------- 0.8/124.9 MB 882.6 kB/s eta 0:02:21\n",
      "   ---------------------------------------- 0.8/124.9 MB 882.6 kB/s eta 0:02:21\n",
      "   ---------------------------------------- 0.8/124.9 MB 882.6 kB/s eta 0:02:21\n",
      "   ---------------------------------------- 1.0/124.9 MB 699.0 kB/s eta 0:02:58\n",
      "   ---------------------------------------- 1.3/124.9 MB 729.2 kB/s eta 0:02:50\n",
      "    --------------------------------------- 1.6/124.9 MB 776.5 kB/s eta 0:02:39\n",
      "    --------------------------------------- 2.1/124.9 MB 883.1 kB/s eta 0:02:20\n",
      "    --------------------------------------- 2.4/124.9 MB 938.3 kB/s eta 0:02:11\n",
      "    --------------------------------------- 2.9/124.9 MB 1.0 MB/s eta 0:01:59\n",
      "   - -------------------------------------- 3.4/124.9 MB 1.1 MB/s eta 0:01:49\n",
      "   - -------------------------------------- 3.7/124.9 MB 1.1 MB/s eta 0:01:46\n",
      "   - -------------------------------------- 3.9/124.9 MB 1.2 MB/s eta 0:01:42\n",
      "   - -------------------------------------- 4.2/124.9 MB 1.2 MB/s eta 0:01:45\n",
      "   - -------------------------------------- 4.7/124.9 MB 1.2 MB/s eta 0:01:38\n",
      "   - -------------------------------------- 5.2/124.9 MB 1.3 MB/s eta 0:01:34\n",
      "   - -------------------------------------- 5.8/124.9 MB 1.3 MB/s eta 0:01:30\n",
      "   -- ------------------------------------- 6.3/124.9 MB 1.3 MB/s eta 0:01:29\n",
      "   -- ------------------------------------- 6.3/124.9 MB 1.3 MB/s eta 0:01:29\n",
      "   -- ------------------------------------- 6.6/124.9 MB 1.3 MB/s eta 0:01:31\n",
      "   -- ------------------------------------- 7.1/124.9 MB 1.3 MB/s eta 0:01:29\n",
      "   -- ------------------------------------- 7.6/124.9 MB 1.4 MB/s eta 0:01:27\n",
      "   -- ------------------------------------- 7.9/124.9 MB 1.4 MB/s eta 0:01:26\n",
      "   -- ------------------------------------- 8.4/124.9 MB 1.4 MB/s eta 0:01:24\n",
      "   -- ------------------------------------- 8.9/124.9 MB 1.4 MB/s eta 0:01:22\n",
      "   --- ------------------------------------ 10.0/124.9 MB 1.5 MB/s eta 0:01:16\n",
      "   --- ------------------------------------ 10.7/124.9 MB 1.6 MB/s eta 0:01:12\n",
      "   --- ------------------------------------ 11.3/124.9 MB 1.6 MB/s eta 0:01:10\n",
      "   --- ------------------------------------ 11.8/124.9 MB 1.6 MB/s eta 0:01:10\n",
      "   --- ------------------------------------ 12.1/124.9 MB 1.6 MB/s eta 0:01:09\n",
      "   --- ------------------------------------ 12.3/124.9 MB 1.6 MB/s eta 0:01:09\n",
      "   ---- ----------------------------------- 12.8/124.9 MB 1.6 MB/s eta 0:01:08\n",
      "   ---- ----------------------------------- 13.6/124.9 MB 1.7 MB/s eta 0:01:07\n",
      "   ---- ----------------------------------- 14.2/124.9 MB 1.7 MB/s eta 0:01:07\n",
      "   ---- ----------------------------------- 15.2/124.9 MB 1.7 MB/s eta 0:01:04\n",
      "   ----- ---------------------------------- 16.0/124.9 MB 1.8 MB/s eta 0:01:02\n",
      "   ----- ---------------------------------- 16.3/124.9 MB 1.8 MB/s eta 0:01:02\n",
      "   ----- ---------------------------------- 16.5/124.9 MB 1.8 MB/s eta 0:01:02\n",
      "   ----- ---------------------------------- 17.0/124.9 MB 1.8 MB/s eta 0:01:02\n",
      "   ----- ---------------------------------- 17.6/124.9 MB 1.8 MB/s eta 0:01:01\n",
      "   ----- ---------------------------------- 17.8/124.9 MB 1.8 MB/s eta 0:01:01\n",
      "   ----- ---------------------------------- 18.4/124.9 MB 1.8 MB/s eta 0:01:01\n",
      "   ------ --------------------------------- 19.1/124.9 MB 1.8 MB/s eta 0:00:59\n",
      "   ------ --------------------------------- 19.7/124.9 MB 1.8 MB/s eta 0:00:59\n",
      "   ------ --------------------------------- 20.2/124.9 MB 1.8 MB/s eta 0:00:58\n",
      "   ------ --------------------------------- 21.0/124.9 MB 1.9 MB/s eta 0:00:56\n",
      "   ------ --------------------------------- 21.2/124.9 MB 1.9 MB/s eta 0:00:56\n",
      "   ------- -------------------------------- 22.0/124.9 MB 1.9 MB/s eta 0:00:55\n",
      "   ------- -------------------------------- 22.5/124.9 MB 1.9 MB/s eta 0:00:55\n",
      "   ------- -------------------------------- 23.1/124.9 MB 1.9 MB/s eta 0:00:54\n",
      "   ------- -------------------------------- 23.9/124.9 MB 1.9 MB/s eta 0:00:53\n",
      "   ------- -------------------------------- 24.6/124.9 MB 1.9 MB/s eta 0:00:52\n",
      "   -------- ------------------------------- 25.4/124.9 MB 2.0 MB/s eta 0:00:51\n",
      "   -------- ------------------------------- 26.2/124.9 MB 2.0 MB/s eta 0:00:50\n",
      "   -------- ------------------------------- 27.0/124.9 MB 2.0 MB/s eta 0:00:49\n",
      "   -------- ------------------------------- 27.8/124.9 MB 2.0 MB/s eta 0:00:48\n",
      "   --------- ------------------------------ 28.6/124.9 MB 2.1 MB/s eta 0:00:47\n",
      "   --------- ------------------------------ 29.4/124.9 MB 2.1 MB/s eta 0:00:46\n",
      "   --------- ------------------------------ 30.1/124.9 MB 2.1 MB/s eta 0:00:45\n",
      "   --------- ------------------------------ 30.9/124.9 MB 2.1 MB/s eta 0:00:44\n",
      "   ---------- ----------------------------- 32.0/124.9 MB 2.2 MB/s eta 0:00:43\n",
      "   ---------- ----------------------------- 32.8/124.9 MB 2.2 MB/s eta 0:00:42\n",
      "   ---------- ----------------------------- 33.8/124.9 MB 2.2 MB/s eta 0:00:41\n",
      "   ----------- ---------------------------- 34.6/124.9 MB 2.2 MB/s eta 0:00:41\n",
      "   ----------- ---------------------------- 35.4/124.9 MB 2.3 MB/s eta 0:00:40\n",
      "   ----------- ---------------------------- 35.9/124.9 MB 2.3 MB/s eta 0:00:40\n",
      "   ----------- ---------------------------- 36.7/124.9 MB 2.3 MB/s eta 0:00:39\n",
      "   ------------ --------------------------- 37.7/124.9 MB 2.3 MB/s eta 0:00:38\n",
      "   ------------ --------------------------- 38.5/124.9 MB 2.3 MB/s eta 0:00:38\n",
      "   ------------ --------------------------- 39.6/124.9 MB 2.4 MB/s eta 0:00:37\n",
      "   ------------ --------------------------- 40.4/124.9 MB 2.4 MB/s eta 0:00:36\n",
      "   ------------- -------------------------- 41.4/124.9 MB 2.4 MB/s eta 0:00:35\n",
      "   ------------- -------------------------- 42.2/124.9 MB 2.4 MB/s eta 0:00:35\n",
      "   ------------- -------------------------- 43.3/124.9 MB 2.4 MB/s eta 0:00:34\n",
      "   -------------- ------------------------- 44.0/124.9 MB 2.5 MB/s eta 0:00:33\n",
      "   -------------- ------------------------- 44.8/124.9 MB 2.5 MB/s eta 0:00:33\n",
      "   -------------- ------------------------- 45.4/124.9 MB 2.5 MB/s eta 0:00:33\n",
      "   -------------- ------------------------- 46.1/124.9 MB 2.5 MB/s eta 0:00:32\n",
      "   --------------- ------------------------ 46.9/124.9 MB 2.5 MB/s eta 0:00:32\n",
      "   --------------- ------------------------ 47.7/124.9 MB 2.5 MB/s eta 0:00:31\n",
      "   --------------- ------------------------ 48.5/124.9 MB 2.5 MB/s eta 0:00:31\n",
      "   --------------- ------------------------ 49.3/124.9 MB 2.5 MB/s eta 0:00:31\n",
      "   ---------------- ----------------------- 50.1/124.9 MB 2.5 MB/s eta 0:00:30\n",
      "   ---------------- ----------------------- 50.9/124.9 MB 2.5 MB/s eta 0:00:30\n",
      "   ---------------- ----------------------- 51.6/124.9 MB 2.5 MB/s eta 0:00:29\n",
      "   ---------------- ----------------------- 52.2/124.9 MB 2.6 MB/s eta 0:00:29\n",
      "   ----------------- ---------------------- 53.2/124.9 MB 2.6 MB/s eta 0:00:28\n",
      "   ----------------- ---------------------- 54.0/124.9 MB 2.6 MB/s eta 0:00:28\n",
      "   ----------------- ---------------------- 54.8/124.9 MB 2.6 MB/s eta 0:00:28\n",
      "   ----------------- ---------------------- 55.6/124.9 MB 2.6 MB/s eta 0:00:27\n",
      "   ------------------ --------------------- 56.4/124.9 MB 2.6 MB/s eta 0:00:27\n",
      "   ------------------ --------------------- 57.1/124.9 MB 2.6 MB/s eta 0:00:26\n",
      "   ------------------ --------------------- 57.9/124.9 MB 2.6 MB/s eta 0:00:26\n",
      "   ------------------ --------------------- 58.7/124.9 MB 2.6 MB/s eta 0:00:26\n",
      "   ------------------- -------------------- 59.5/124.9 MB 2.6 MB/s eta 0:00:25\n",
      "   ------------------- -------------------- 60.0/124.9 MB 2.7 MB/s eta 0:00:25\n",
      "   ------------------- -------------------- 60.8/124.9 MB 2.7 MB/s eta 0:00:25\n",
      "   ------------------- -------------------- 61.3/124.9 MB 2.7 MB/s eta 0:00:24\n",
      "   ------------------- -------------------- 62.1/124.9 MB 2.7 MB/s eta 0:00:24\n",
      "   -------------------- ------------------- 62.9/124.9 MB 2.7 MB/s eta 0:00:24\n",
      "   -------------------- ------------------- 63.7/124.9 MB 2.7 MB/s eta 0:00:23\n",
      "   -------------------- ------------------- 64.2/124.9 MB 2.7 MB/s eta 0:00:23\n",
      "   -------------------- ------------------- 64.7/124.9 MB 2.7 MB/s eta 0:00:23\n",
      "   -------------------- ------------------- 65.3/124.9 MB 2.7 MB/s eta 0:00:23\n",
      "   --------------------- ------------------ 66.1/124.9 MB 2.7 MB/s eta 0:00:22\n",
      "   --------------------- ------------------ 66.6/124.9 MB 2.7 MB/s eta 0:00:22\n",
      "   --------------------- ------------------ 67.4/124.9 MB 2.7 MB/s eta 0:00:22\n",
      "   --------------------- ------------------ 67.9/124.9 MB 2.7 MB/s eta 0:00:22\n",
      "   --------------------- ------------------ 68.7/124.9 MB 2.7 MB/s eta 0:00:21\n",
      "   ---------------------- ----------------- 69.2/124.9 MB 2.7 MB/s eta 0:00:21\n",
      "   ---------------------- ----------------- 70.0/124.9 MB 2.7 MB/s eta 0:00:21\n",
      "   ---------------------- ----------------- 70.5/124.9 MB 2.7 MB/s eta 0:00:21\n",
      "   ---------------------- ----------------- 71.0/124.9 MB 2.7 MB/s eta 0:00:20\n",
      "   ---------------------- ----------------- 71.6/124.9 MB 2.7 MB/s eta 0:00:20\n",
      "   ----------------------- ---------------- 72.6/124.9 MB 2.7 MB/s eta 0:00:20\n",
      "   ----------------------- ---------------- 73.1/124.9 MB 2.7 MB/s eta 0:00:19\n",
      "   ----------------------- ---------------- 73.7/124.9 MB 2.7 MB/s eta 0:00:19\n",
      "   ----------------------- ---------------- 74.2/124.9 MB 2.7 MB/s eta 0:00:19\n",
      "   ----------------------- ---------------- 74.7/124.9 MB 2.7 MB/s eta 0:00:19\n",
      "   ------------------------ --------------- 75.5/124.9 MB 2.7 MB/s eta 0:00:19\n",
      "   ------------------------ --------------- 76.0/124.9 MB 2.7 MB/s eta 0:00:18\n",
      "   ------------------------ --------------- 76.8/124.9 MB 2.7 MB/s eta 0:00:18\n",
      "   ------------------------ --------------- 77.3/124.9 MB 2.7 MB/s eta 0:00:18\n",
      "   ------------------------- -------------- 78.1/124.9 MB 2.7 MB/s eta 0:00:18\n",
      "   ------------------------- -------------- 79.2/124.9 MB 2.8 MB/s eta 0:00:17\n",
      "   ------------------------- -------------- 80.0/124.9 MB 2.8 MB/s eta 0:00:17\n",
      "   ------------------------- -------------- 80.5/124.9 MB 2.8 MB/s eta 0:00:17\n",
      "   -------------------------- ------------- 81.3/124.9 MB 2.8 MB/s eta 0:00:16\n",
      "   -------------------------- ------------- 82.1/124.9 MB 2.8 MB/s eta 0:00:16\n",
      "   -------------------------- ------------- 82.8/124.9 MB 2.8 MB/s eta 0:00:16\n",
      "   -------------------------- ------------- 83.4/124.9 MB 2.8 MB/s eta 0:00:15\n",
      "   -------------------------- ------------- 83.9/124.9 MB 2.8 MB/s eta 0:00:15\n",
      "   --------------------------- ------------ 84.4/124.9 MB 2.8 MB/s eta 0:00:15\n",
      "   --------------------------- ------------ 84.9/124.9 MB 2.8 MB/s eta 0:00:15\n",
      "   --------------------------- ------------ 85.2/124.9 MB 2.8 MB/s eta 0:00:15\n",
      "   --------------------------- ------------ 86.0/124.9 MB 2.9 MB/s eta 0:00:14\n",
      "   --------------------------- ------------ 86.5/124.9 MB 2.9 MB/s eta 0:00:14\n",
      "   --------------------------- ------------ 86.8/124.9 MB 2.9 MB/s eta 0:00:14\n",
      "   --------------------------- ------------ 87.3/124.9 MB 2.9 MB/s eta 0:00:14\n",
      "   ---------------------------- ----------- 88.1/124.9 MB 2.9 MB/s eta 0:00:13\n",
      "   ---------------------------- ----------- 88.9/124.9 MB 2.9 MB/s eta 0:00:13\n",
      "   ---------------------------- ----------- 89.4/124.9 MB 2.9 MB/s eta 0:00:13\n",
      "   ---------------------------- ----------- 90.2/124.9 MB 2.9 MB/s eta 0:00:12\n",
      "   ----------------------------- ---------- 91.0/124.9 MB 2.9 MB/s eta 0:00:12\n",
      "   ----------------------------- ---------- 91.8/124.9 MB 2.9 MB/s eta 0:00:12\n",
      "   ----------------------------- ---------- 92.5/124.9 MB 3.0 MB/s eta 0:00:11\n",
      "   ----------------------------- ---------- 93.3/124.9 MB 3.0 MB/s eta 0:00:11\n",
      "   ------------------------------ --------- 94.1/124.9 MB 3.0 MB/s eta 0:00:11\n",
      "   ------------------------------ --------- 94.9/124.9 MB 3.0 MB/s eta 0:00:10\n",
      "   ------------------------------ --------- 95.7/124.9 MB 3.0 MB/s eta 0:00:10\n",
      "   ------------------------------ --------- 96.2/124.9 MB 3.0 MB/s eta 0:00:10\n",
      "   ------------------------------ --------- 96.7/124.9 MB 3.0 MB/s eta 0:00:10\n",
      "   ------------------------------- -------- 97.5/124.9 MB 3.1 MB/s eta 0:00:09\n",
      "   ------------------------------- -------- 98.3/124.9 MB 3.1 MB/s eta 0:00:09\n",
      "   ------------------------------- -------- 99.1/124.9 MB 3.1 MB/s eta 0:00:09\n",
      "   ------------------------------- -------- 99.9/124.9 MB 3.1 MB/s eta 0:00:09\n",
      "   -------------------------------- ------- 100.4/124.9 MB 3.1 MB/s eta 0:00:08\n",
      "   -------------------------------- ------- 100.9/124.9 MB 3.1 MB/s eta 0:00:08\n",
      "   -------------------------------- ------- 101.7/124.9 MB 3.1 MB/s eta 0:00:08\n",
      "   -------------------------------- ------- 102.2/124.9 MB 3.1 MB/s eta 0:00:08\n",
      "   -------------------------------- ------- 103.0/124.9 MB 3.1 MB/s eta 0:00:07\n",
      "   --------------------------------- ------ 103.5/124.9 MB 3.1 MB/s eta 0:00:07\n",
      "   --------------------------------- ------ 104.1/124.9 MB 3.1 MB/s eta 0:00:07\n",
      "   --------------------------------- ------ 104.6/124.9 MB 3.1 MB/s eta 0:00:07\n",
      "   --------------------------------- ------ 105.1/124.9 MB 3.1 MB/s eta 0:00:07\n",
      "   --------------------------------- ------ 105.9/124.9 MB 3.1 MB/s eta 0:00:07\n",
      "   ---------------------------------- ----- 106.7/124.9 MB 3.1 MB/s eta 0:00:06\n",
      "   ---------------------------------- ----- 107.5/124.9 MB 3.2 MB/s eta 0:00:06\n",
      "   ---------------------------------- ----- 108.3/124.9 MB 3.2 MB/s eta 0:00:06\n",
      "   ---------------------------------- ----- 108.8/124.9 MB 3.2 MB/s eta 0:00:06\n",
      "   ----------------------------------- ---- 109.6/124.9 MB 3.2 MB/s eta 0:00:05\n",
      "   ----------------------------------- ---- 110.1/124.9 MB 3.2 MB/s eta 0:00:05\n",
      "   ----------------------------------- ---- 110.6/124.9 MB 3.2 MB/s eta 0:00:05\n",
      "   ----------------------------------- ---- 111.7/124.9 MB 3.2 MB/s eta 0:00:05\n",
      "   ------------------------------------ --- 112.5/124.9 MB 3.2 MB/s eta 0:00:04\n",
      "   ------------------------------------ --- 113.2/124.9 MB 3.2 MB/s eta 0:00:04\n",
      "   ------------------------------------ --- 114.0/124.9 MB 3.2 MB/s eta 0:00:04\n",
      "   ------------------------------------ --- 114.6/124.9 MB 3.2 MB/s eta 0:00:04\n",
      "   ------------------------------------ --- 115.1/124.9 MB 3.3 MB/s eta 0:00:04\n",
      "   ------------------------------------- -- 115.9/124.9 MB 3.3 MB/s eta 0:00:03\n",
      "   ------------------------------------- -- 116.7/124.9 MB 3.3 MB/s eta 0:00:03\n",
      "   ------------------------------------- -- 117.2/124.9 MB 3.3 MB/s eta 0:00:03\n",
      "   ------------------------------------- -- 117.7/124.9 MB 3.3 MB/s eta 0:00:03\n",
      "   ------------------------------------- -- 118.5/124.9 MB 3.3 MB/s eta 0:00:02\n",
      "   -------------------------------------- - 119.3/124.9 MB 3.3 MB/s eta 0:00:02\n",
      "   -------------------------------------- - 119.8/124.9 MB 3.3 MB/s eta 0:00:02\n",
      "   -------------------------------------- - 120.6/124.9 MB 3.3 MB/s eta 0:00:02\n",
      "   -------------------------------------- - 121.4/124.9 MB 3.3 MB/s eta 0:00:02\n",
      "   -------------------------------------- - 121.6/124.9 MB 3.3 MB/s eta 0:00:01\n",
      "   ---------------------------------------  122.7/124.9 MB 3.3 MB/s eta 0:00:01\n",
      "   ---------------------------------------  123.2/124.9 MB 3.3 MB/s eta 0:00:01\n",
      "   ---------------------------------------  124.0/124.9 MB 3.3 MB/s eta 0:00:01\n",
      "   ---------------------------------------  124.8/124.9 MB 3.3 MB/s eta 0:00:01\n",
      "   ---------------------------------------  124.8/124.9 MB 3.3 MB/s eta 0:00:01\n",
      "   ---------------------------------------  124.8/124.9 MB 3.3 MB/s eta 0:00:01\n",
      "   ---------------------------------------  124.8/124.9 MB 3.3 MB/s eta 0:00:01\n",
      "   ---------------------------------------  124.8/124.9 MB 3.3 MB/s eta 0:00:01\n",
      "   ---------------------------------------  124.8/124.9 MB 3.3 MB/s eta 0:00:01\n",
      "   ---------------------------------------- 124.9/124.9 MB 3.2 MB/s eta 0:00:00\n",
      "Installing collected packages: xgboost\n",
      "Successfully installed xgboost-2.1.3\n"
     ]
    }
   ],
   "source": [
    "!pip install xgboost"
   ]
  },
  {
   "cell_type": "code",
   "execution_count": 62,
   "metadata": {},
   "outputs": [],
   "source": [
    "from xgboost import XGBRegressor\n",
    "from sklearn.ensemble import RandomForestRegressor\n",
    "from sklearn.linear_model import LinearRegression,Lasso,Ridge,ElasticNet\n",
    "from sklearn.metrics import r2_score,mean_absolute_error,mean_squared_error"
   ]
  },
  {
   "cell_type": "code",
   "execution_count": 63,
   "metadata": {},
   "outputs": [],
   "source": [
    "models={\n",
    "\n",
    "    'LinearRegression':LinearRegression(),\n",
    "    'Lasso':Lasso(),\n",
    "    'Ridge':Ridge(),\n",
    "    'Elasticnet':ElasticNet(),\n",
    "    'Randomforest':RandomForestRegressor(),\n",
    "    'xgboost':XGBRegressor()\n",
    "\n",
    "}"
   ]
  },
  {
   "cell_type": "code",
   "execution_count": 64,
   "metadata": {},
   "outputs": [
    {
     "data": {
      "text/plain": [
       "['LinearRegression', 'Lasso', 'Ridge', 'Elasticnet', 'Randomforest', 'xgboost']"
      ]
     },
     "execution_count": 64,
     "metadata": {},
     "output_type": "execute_result"
    }
   ],
   "source": [
    "trained_model_list=[]\n",
    "model_list=[]\n",
    "r2_list=[]\n",
    "list(models)"
   ]
  },
  {
   "cell_type": "code",
   "execution_count": 65,
   "metadata": {},
   "outputs": [],
   "source": [
    "def evaluate_model(true,pred):\n",
    "    r2=r2_score(true,pred)\n",
    "    mae=mean_absolute_error(true,pred)\n",
    "    mse=mean_squared_error(true,pred)\n",
    "    return mae, mse,r2"
   ]
  },
  {
   "cell_type": "code",
   "execution_count": 66,
   "metadata": {},
   "outputs": [
    {
     "name": "stdout",
     "output_type": "stream",
     "text": [
      "model training performance LinearRegression()\n",
      "MSE: 1029473.3531156847\n",
      "MAE: 675.0758270067478\n",
      "R2 SCORE: 0.9362906819996047\n",
      "========================================\n",
      "\n",
      "\n",
      "model training performance Lasso()\n",
      "MSE: 1029534.1175907081\n",
      "MAE: 676.3788803086726\n",
      "R2 SCORE: 0.9362869215688461\n",
      "========================================\n",
      "\n",
      "\n",
      "model training performance Ridge()\n",
      "MSE: 1029482.832981572\n",
      "MAE: 675.1087261318746\n",
      "R2 SCORE: 0.9362900953347935\n",
      "========================================\n",
      "\n",
      "\n",
      "model training performance ElasticNet()\n",
      "MSE: 2291130.057094769\n",
      "MAE: 1051.1722281863017\n",
      "R2 SCORE: 0.8582126162411592\n",
      "========================================\n",
      "\n",
      "\n",
      "model training performance RandomForestRegressor()\n",
      "MSE: 374267.6094949156\n",
      "MAE: 310.5547977155343\n",
      "R2 SCORE: 0.9768383182737127\n",
      "========================================\n",
      "\n",
      "\n",
      "model training performance XGBRegressor(base_score=None, booster=None, callbacks=None,\n",
      "             colsample_bylevel=None, colsample_bynode=None,\n",
      "             colsample_bytree=None, device=None, early_stopping_rounds=None,\n",
      "             enable_categorical=False, eval_metric=None, feature_types=None,\n",
      "             gamma=None, grow_policy=None, importance_type=None,\n",
      "             interaction_constraints=None, learning_rate=None, max_bin=None,\n",
      "             max_cat_threshold=None, max_cat_to_onehot=None,\n",
      "             max_delta_step=None, max_depth=None, max_leaves=None,\n",
      "             min_child_weight=None, missing=nan, monotone_constraints=None,\n",
      "             multi_strategy=None, n_estimators=None, n_jobs=None,\n",
      "             num_parallel_tree=None, random_state=None, ...)\n",
      "MSE: 345616.1875\n",
      "MAE: 297.2505187988281\n",
      "R2 SCORE: 0.978611409664154\n",
      "========================================\n",
      "\n",
      "\n"
     ]
    }
   ],
   "source": [
    "for i in range(len(list(models))):\n",
    "    model=list(models.values())[i]\n",
    "    \n",
    "    model.fit(X_train,y_train)\n",
    "\n",
    "    #make_prediction\n",
    "    y_pred=model.predict(X_test)\n",
    "\n",
    "    #this is for the validaiton\n",
    "    MAE,MSE,R2=evaluate_model(y_test,y_pred)\n",
    "\n",
    "\n",
    "    print(\"model training performance\",model)\n",
    "    print(\"MSE:\", MSE)\n",
    "    print(\"MAE:\",MAE)\n",
    "    print(\"R2 SCORE:\",R2)\n",
    "\n",
    "    r2_list.append(R2)\n",
    "\n",
    "    print(\"=\"*40)\n",
    "    print(\"\\n\")"
   ]
  }
 ],
 "metadata": {
  "kernelspec": {
   "display_name": ".venv",
   "language": "python",
   "name": "python3"
  },
  "language_info": {
   "codemirror_mode": {
    "name": "ipython",
    "version": 3
   },
   "file_extension": ".py",
   "mimetype": "text/x-python",
   "name": "python",
   "nbconvert_exporter": "python",
   "pygments_lexer": "ipython3",
   "version": "3.12.6"
  }
 },
 "nbformat": 4,
 "nbformat_minor": 2
}
